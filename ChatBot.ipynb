{
  "nbformat": 4,
  "nbformat_minor": 0,
  "metadata": {
    "colab": {
      "name": "ChatBot",
      "provenance": [],
      "authorship_tag": "ABX9TyOVmZcTzIXLCrMa9GpIa6hQ",
      "include_colab_link": true
    },
    "kernelspec": {
      "name": "python3",
      "display_name": "Python 3"
    }
  },
  "cells": [
    {
      "cell_type": "markdown",
      "metadata": {
        "id": "view-in-github",
        "colab_type": "text"
      },
      "source": [
        "<a href=\"https://colab.research.google.com/github/codemyluck/My-1st-repository/blob/master/ChatBot.ipynb\" target=\"_parent\"><img src=\"https://colab.research.google.com/assets/colab-badge.svg\" alt=\"Open In Colab\"/></a>"
      ]
    },
    {
      "cell_type": "code",
      "metadata": {
        "id": "MG1zl_plpBzI",
        "colab_type": "code",
        "colab": {}
      },
      "source": [
        "# Description:- This is a Chat bot program."
      ],
      "execution_count": 0,
      "outputs": []
    },
    {
      "cell_type": "code",
      "metadata": {
        "id": "KNAtdIwBpNqH",
        "colab_type": "code",
        "colab": {}
      },
      "source": [
        "#import the library\n",
        "from nltk.chat.util import Chat, reflections"
      ],
      "execution_count": 0,
      "outputs": []
    },
    {
      "cell_type": "code",
      "metadata": {
        "id": "WRiVwkZxpcTZ",
        "colab_type": "code",
        "colab": {}
      },
      "source": [
        "pairs = [\n",
        "     ['my name is (.*)',['hi %1']],\n",
        "     ['(hi|hello|hey|holla|hola)',['hey there','hi there','heyyyy']],\n",
        "     ['(.*) in (.*) is fun',['%1 in %2 is indeed fun']],\n",
        "     ['(.*)(location|city) ?', 'Tokyo,Japan,America,India,Malaysia,Canada,Singapore,Switzerland'],\n",
        "     ['(.*) created you ?',['Akash1234 did using NLTK']],\n",
        "     ['how is the weather in (.*)',['the weather in %1 is amazing like always']],\n",
        "     ['(.*)help(.*)', ['I can help you']],\n",
        "     ['(.*) your name ?',['my name is J.A.R.V.I.S']]\n",
        "    \n",
        "]"
      ],
      "execution_count": 0,
      "outputs": []
    },
    {
      "cell_type": "code",
      "metadata": {
        "id": "j0PeivyppjQ4",
        "colab_type": "code",
        "colab": {
          "base_uri": "https://localhost:8080/",
          "height": 286
        },
        "outputId": "69f32b0a-d327-4852-d904-eb2ec84b0aca"
      },
      "source": [
        "reflections"
      ],
      "execution_count": 4,
      "outputs": [
        {
          "output_type": "execute_result",
          "data": {
            "text/plain": [
              "{'i': 'you',\n",
              " 'i am': 'you are',\n",
              " 'i was': 'you were',\n",
              " \"i'd\": 'you would',\n",
              " \"i'll\": 'you will',\n",
              " \"i'm\": 'you are',\n",
              " \"i've\": 'you have',\n",
              " 'me': 'you',\n",
              " 'my': 'your',\n",
              " 'you': 'me',\n",
              " 'you are': 'I am',\n",
              " 'you were': 'I was',\n",
              " \"you'll\": 'I will',\n",
              " \"you've\": 'I have',\n",
              " 'your': 'my',\n",
              " 'yours': 'mine'}"
            ]
          },
          "metadata": {
            "tags": []
          },
          "execution_count": 4
        }
      ]
    },
    {
      "cell_type": "code",
      "metadata": {
        "id": "figYHSxlpn24",
        "colab_type": "code",
        "colab": {}
      },
      "source": [
        "my_dummy_reflections = {\n",
        "    'go' : 'gone',\n",
        "    'hello' : 'hey there'\n",
        "}"
      ],
      "execution_count": 0,
      "outputs": []
    },
    {
      "cell_type": "code",
      "metadata": {
        "id": "X-OuDwRZptdY",
        "colab_type": "code",
        "colab": {
          "base_uri": "https://localhost:8080/",
          "height": 204
        },
        "outputId": "fd2dd321-3436-4dc4-9379-bd342fad06e2"
      },
      "source": [
        "chat = Chat(pairs, my_dummy_reflections)       # reflection is a dictionary that contais a set of input values and it's corresponding output values.\n",
        "#chat._substitute('you are amazing')\n",
        "chat.converse()"
      ],
      "execution_count": 0,
      "outputs": [
        {
          "output_type": "stream",
          "text": [
            ">universal in tokyo is fun\n",
            "universal in tokyo is indeed fun\n",
            ">who created you ?\n",
            "Akash1234 did using NLTK\n",
            ">can you help me ?\n",
            "I can help you\n",
            ">how is the weather in tokyo\n",
            "the weather in tokyo is amazing like always\n",
            ">what's your name ?\n",
            "my name is J.A.R.V.I.S\n"
          ],
          "name": "stdout"
        }
      ]
    }
  ]
}